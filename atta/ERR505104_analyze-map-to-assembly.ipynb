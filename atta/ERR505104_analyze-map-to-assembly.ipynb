{
 "cells": [
  {
   "cell_type": "code",
   "execution_count": 36,
   "id": "ec070334",
   "metadata": {},
   "outputs": [
    {
     "ename": "SyntaxError",
     "evalue": "invalid syntax (4123112840.py, line 3)",
     "output_type": "error",
     "traceback": [
      "\u001b[0;36m  File \u001b[0;32m\"/var/folders/2v/pjf15hqn3fs9d8p873k54x1r0000gq/T/ipykernel_15121/4123112840.py\"\u001b[0;36m, line \u001b[0;32m3\u001b[0m\n\u001b[0;31m    Sketch of the problem:\u001b[0m\n\u001b[0m           ^\u001b[0m\n\u001b[0;31mSyntaxError\u001b[0m\u001b[0;31m:\u001b[0m invalid syntax\n"
     ]
    }
   ],
   "source": [
    "# This analysis: % K-mer containment comparison\n",
    "\n",
    "Sketch of the problem:\n",
    "* To find out the assembly information-loss, we aligned mapped-reads to metagenome assembly\n",
    "* and found out most of them with coverage >5x aligned to metagenome assembly\n",
    "* indicating here is not much of information-loss for reads with > 5x cov\n",
    "\n",
    "Questions:\n",
    "* We then try to see if we can recover more reads with using metagenome assembly instead of GTDB as referece\n",
    "* we conducted containment search each genome in:\n",
    "* # 1) raw metagenome, 2) assembled metagenome, 3) the reads mapped to the assembled metagenome\n",
    "\n",
    "Refer: \n",
    "* atta notes: https://hackmd.io/ZlvQQM0NRxiYnF1QYtlVOA#6-atta-align-trimmed-reads-to-metagenome-assembly\n",
    "* Snakefile for generating .csv: https://github.com/jeanzzhao/onehuman/blob/main/atta/Snakefile\n",
    "* '*.trim.csv' files are under Farm ~/2022-assemblyloss/onehuman/atta/ and download in local folder"
   ]
  },
  {
   "cell_type": "code",
   "execution_count": 37,
   "id": "d9d1bd8c",
   "metadata": {},
   "outputs": [],
   "source": [
    "import glob\n",
    "import os.path\n",
    "import pandas as pd"
   ]
  },
  {
   "cell_type": "code",
   "execution_count": 38,
   "id": "ba4e7a27",
   "metadata": {},
   "outputs": [],
   "source": [
    "csv_prefixes = glob.glob ('/Users/ZYZhao/projects/AL/human/ERR505104/Analysis/*.trim.csv')"
   ]
  },
  {
   "cell_type": "code",
   "execution_count": 39,
   "id": "da364481",
   "metadata": {},
   "outputs": [
    {
     "data": {
      "text/plain": [
       "['/Users/ZYZhao/projects/AL/human/ERR505104/Analysis/ERR505104.x.GCF_001073155.1',\n",
       " '/Users/ZYZhao/projects/AL/human/ERR505104/Analysis/ERR505104.x.GCF_024460435.1',\n",
       " '/Users/ZYZhao/projects/AL/human/ERR505104/Analysis/ERR505104.x.GCF_015560355.1',\n",
       " '/Users/ZYZhao/projects/AL/human/ERR505104/Analysis/ERR505104.x.GCA_000436175.1',\n",
       " '/Users/ZYZhao/projects/AL/human/ERR505104/Analysis/ERR505104.x.GCA_018374955.1']"
      ]
     },
     "execution_count": 39,
     "metadata": {},
     "output_type": "execute_result"
    }
   ],
   "source": [
    "csv_prefixes2 = [ x[:-9] for x in csv_prefixes ]\n",
    "csv_prefixes2[:5]"
   ]
  },
  {
   "cell_type": "code",
   "execution_count": 40,
   "id": "b2877ad4",
   "metadata": {},
   "outputs": [
    {
     "data": {
      "text/plain": [
       "('GCF_001073155.1', 'ERR505104')"
      ]
     },
     "execution_count": 40,
     "metadata": {},
     "output_type": "execute_result"
    }
   ],
   "source": [
    "def get_genome_metagenome(prefix):\n",
    "    prefix = os.path.basename(prefix)\n",
    "    metagenome, _, genome = prefix.split('.', 2)\n",
    "    return genome, metagenome\n",
    "\n",
    "get_genome_metagenome(csv_prefixes2[0])"
   ]
  },
  {
   "cell_type": "code",
   "execution_count": 41,
   "id": "7ed67950",
   "metadata": {},
   "outputs": [],
   "source": [
    "def load_triple(prefix):\n",
    "    try:\n",
    "        df1 = pd.read_csv(prefix + '.trim.csv')\n",
    "        df2 = pd.read_csv(prefix + '.assem.csv')\n",
    "        df3 = pd.read_csv(prefix + '.mapassem.csv')\n",
    "\n",
    "        # should only be one entry in each\n",
    "        assert len(df1) == 1\n",
    "        assert len(df2) == 1\n",
    "        assert len(df3) == 1\n",
    "\n",
    "        trim_cont = list(df1.similarity)[0]\n",
    "        assem_cont = list(df2.similarity)[0]\n",
    "        mapassem_cont = list(df3.similarity)[0]\n",
    "\n",
    "        genome, metagenome = get_genome_metagenome(prefix)\n",
    "\n",
    "        d = dict(genome=genome, metagenome=metagenome, trim_cont=trim_cont,\n",
    "                assem_cont=assem_cont, mapassem_cont=mapassem_cont)\n",
    "\n",
    "        return d\n",
    "    except pd.errors.EmptyDataError:\n",
    "        return None\n",
    "        \n",
    "    \n",
    "x = load_triple(csv_prefixes2[0])"
   ]
  },
  {
   "cell_type": "code",
   "execution_count": 42,
   "id": "45398d20",
   "metadata": {},
   "outputs": [
    {
     "data": {
      "text/plain": [
       "{'genome': 'GCF_001073155.1',\n",
       " 'metagenome': 'ERR505104',\n",
       " 'trim_cont': 0.0648910411622276,\n",
       " 'assem_cont': 0.0024213075060532,\n",
       " 'mapassem_cont': 0.0053268765133171}"
      ]
     },
     "execution_count": 42,
     "metadata": {},
     "output_type": "execute_result"
    }
   ],
   "source": [
    "x"
   ]
  },
  {
   "cell_type": "code",
   "execution_count": 43,
   "id": "a85989e6",
   "metadata": {},
   "outputs": [],
   "source": [
    "xx = [ load_triple(prefix) for prefix in csv_prefixes2 ]\n",
    "xx = [ x for x in xx if x ]"
   ]
  },
  {
   "cell_type": "code",
   "execution_count": 44,
   "id": "37dd2241",
   "metadata": {},
   "outputs": [
    {
     "data": {
      "text/plain": [
       "230"
      ]
     },
     "execution_count": 44,
     "metadata": {},
     "output_type": "execute_result"
    }
   ],
   "source": [
    "len(xx)"
   ]
  },
  {
   "cell_type": "code",
   "execution_count": 45,
   "id": "e144bf86",
   "metadata": {},
   "outputs": [],
   "source": [
    "df = pd.DataFrame.from_dict(xx)"
   ]
  },
  {
   "cell_type": "code",
   "execution_count": 46,
   "id": "4c92e46d",
   "metadata": {
    "scrolled": true
   },
   "outputs": [
    {
     "data": {
      "text/html": [
       "<div>\n",
       "<style scoped>\n",
       "    .dataframe tbody tr th:only-of-type {\n",
       "        vertical-align: middle;\n",
       "    }\n",
       "\n",
       "    .dataframe tbody tr th {\n",
       "        vertical-align: top;\n",
       "    }\n",
       "\n",
       "    .dataframe thead th {\n",
       "        text-align: right;\n",
       "    }\n",
       "</style>\n",
       "<table border=\"1\" class=\"dataframe\">\n",
       "  <thead>\n",
       "    <tr style=\"text-align: right;\">\n",
       "      <th></th>\n",
       "      <th>genome</th>\n",
       "      <th>metagenome</th>\n",
       "      <th>trim_cont</th>\n",
       "      <th>assem_cont</th>\n",
       "      <th>mapassem_cont</th>\n",
       "    </tr>\n",
       "  </thead>\n",
       "  <tbody>\n",
       "    <tr>\n",
       "      <th>0</th>\n",
       "      <td>GCF_001073155.1</td>\n",
       "      <td>ERR505104</td>\n",
       "      <td>0.064891</td>\n",
       "      <td>0.002421</td>\n",
       "      <td>0.005327</td>\n",
       "    </tr>\n",
       "    <tr>\n",
       "      <th>1</th>\n",
       "      <td>GCF_024460435.1</td>\n",
       "      <td>ERR505104</td>\n",
       "      <td>0.097281</td>\n",
       "      <td>0.052239</td>\n",
       "      <td>0.065832</td>\n",
       "    </tr>\n",
       "    <tr>\n",
       "      <th>2</th>\n",
       "      <td>GCF_015560355.1</td>\n",
       "      <td>ERR505104</td>\n",
       "      <td>0.056238</td>\n",
       "      <td>0.018436</td>\n",
       "      <td>0.024953</td>\n",
       "    </tr>\n",
       "    <tr>\n",
       "      <th>3</th>\n",
       "      <td>GCA_000436175.1</td>\n",
       "      <td>ERR505104</td>\n",
       "      <td>0.683255</td>\n",
       "      <td>0.654922</td>\n",
       "      <td>0.663276</td>\n",
       "    </tr>\n",
       "    <tr>\n",
       "      <th>4</th>\n",
       "      <td>GCA_018374955.1</td>\n",
       "      <td>ERR505104</td>\n",
       "      <td>0.235563</td>\n",
       "      <td>0.080903</td>\n",
       "      <td>0.106632</td>\n",
       "    </tr>\n",
       "    <tr>\n",
       "      <th>...</th>\n",
       "      <td>...</td>\n",
       "      <td>...</td>\n",
       "      <td>...</td>\n",
       "      <td>...</td>\n",
       "      <td>...</td>\n",
       "    </tr>\n",
       "    <tr>\n",
       "      <th>225</th>\n",
       "      <td>GCF_003478035.1</td>\n",
       "      <td>ERR505104</td>\n",
       "      <td>0.205579</td>\n",
       "      <td>0.077545</td>\n",
       "      <td>0.094561</td>\n",
       "    </tr>\n",
       "    <tr>\n",
       "      <th>226</th>\n",
       "      <td>GCA_905201495.1</td>\n",
       "      <td>ERR505104</td>\n",
       "      <td>0.041226</td>\n",
       "      <td>0.004832</td>\n",
       "      <td>0.006040</td>\n",
       "    </tr>\n",
       "    <tr>\n",
       "      <th>227</th>\n",
       "      <td>GCA_019417795.1</td>\n",
       "      <td>ERR505104</td>\n",
       "      <td>0.228688</td>\n",
       "      <td>0.140941</td>\n",
       "      <td>0.160264</td>\n",
       "    </tr>\n",
       "    <tr>\n",
       "      <th>228</th>\n",
       "      <td>GCA_000577295.1</td>\n",
       "      <td>ERR505104</td>\n",
       "      <td>0.504624</td>\n",
       "      <td>0.495538</td>\n",
       "      <td>0.499757</td>\n",
       "    </tr>\n",
       "    <tr>\n",
       "      <th>229</th>\n",
       "      <td>GCA_918264685.1</td>\n",
       "      <td>ERR505104</td>\n",
       "      <td>0.719005</td>\n",
       "      <td>0.710137</td>\n",
       "      <td>0.713093</td>\n",
       "    </tr>\n",
       "  </tbody>\n",
       "</table>\n",
       "<p>230 rows × 5 columns</p>\n",
       "</div>"
      ],
      "text/plain": [
       "              genome metagenome  trim_cont  assem_cont  mapassem_cont\n",
       "0    GCF_001073155.1  ERR505104   0.064891    0.002421       0.005327\n",
       "1    GCF_024460435.1  ERR505104   0.097281    0.052239       0.065832\n",
       "2    GCF_015560355.1  ERR505104   0.056238    0.018436       0.024953\n",
       "3    GCA_000436175.1  ERR505104   0.683255    0.654922       0.663276\n",
       "4    GCA_018374955.1  ERR505104   0.235563    0.080903       0.106632\n",
       "..               ...        ...        ...         ...            ...\n",
       "225  GCF_003478035.1  ERR505104   0.205579    0.077545       0.094561\n",
       "226  GCA_905201495.1  ERR505104   0.041226    0.004832       0.006040\n",
       "227  GCA_019417795.1  ERR505104   0.228688    0.140941       0.160264\n",
       "228  GCA_000577295.1  ERR505104   0.504624    0.495538       0.499757\n",
       "229  GCA_918264685.1  ERR505104   0.719005    0.710137       0.713093\n",
       "\n",
       "[230 rows x 5 columns]"
      ]
     },
     "execution_count": 46,
     "metadata": {},
     "output_type": "execute_result"
    }
   ],
   "source": [
    "df"
   ]
  },
  {
   "cell_type": "code",
   "execution_count": 50,
   "id": "99e07b03",
   "metadata": {
    "scrolled": true
   },
   "outputs": [
    {
     "name": "stderr",
     "output_type": "stream",
     "text": [
      "/var/folders/2v/pjf15hqn3fs9d8p873k54x1r0000gq/T/ipykernel_15121/2917673999.py:10: UserWarning: FixedFormatter should only be used together with FixedLocator\n",
      "  axes.set_xticklabels(labels)\n"
     ]
    },
    {
     "data": {
      "text/plain": [
       "[Text(0.5, 0, ''),\n",
       " Text(1.0, 0, 'Trimmed'),\n",
       " Text(1.5, 0, ''),\n",
       " Text(2.0, 0, 'Assembled'),\n",
       " Text(2.5, 0, ''),\n",
       " Text(3.0, 0, 'MapToAssembly'),\n",
       " Text(3.5, 0, '')]"
      ]
     },
     "execution_count": 50,
     "metadata": {},
     "output_type": "execute_result"
    },
    {
     "data": {
      "image/png": "[encoded data removed]",
      "text/plain": [
       "<Figure size 432x288 with 1 Axes>"
      ]
     },
     "metadata": {
      "needs_background": "light"
     },
     "output_type": "display_data"
    },
    {
     "data": {
      "text/plain": [
       "<Figure size 864x576 with 0 Axes>"
      ]
     },
     "metadata": {},
     "output_type": "display_data"
    }
   ],
   "source": [
    "fig, axes = plt.subplots()\n",
    "axes.violinplot(dataset = [df.trim_cont, df.assem_cont, df.mapassem_cont])\n",
    "\n",
    "plt.figure(figsize=(12, 8))\n",
    "axes.set_title('K-mer Containment Comparison (Host-Associated ERR505104)')\n",
    "axes.yaxis.grid(True)\n",
    "axes.set_ylabel('% Contained k-mers')\n",
    "axes.set_xticklabels([])\n",
    "labels = ['', 'Trimmed', '', 'Assembled', '', 'MapToAssembly']\n",
    "axes.set_xticklabels(labels)\n"
   ]
  },
  {
   "cell_type": "code",
   "execution_count": null,
   "id": "9066f0fa",
   "metadata": {},
   "outputs": [],
   "source": []
  }
 ],
 "metadata": {
  "kernelspec": {
   "display_name": "Python 3 (ipykernel)",
   "language": "python",
   "name": "python3"
  },
  "language_info": {
   "codemirror_mode": {
    "name": "ipython",
    "version": 3
   },
   "file_extension": ".py",
   "mimetype": "text/x-python",
   "name": "python",
   "nbconvert_exporter": "python",
   "pygments_lexer": "ipython3",
   "version": "3.9.7"
  }
 },
 "nbformat": 4,
 "nbformat_minor": 5
}
